{
  "metadata": {
    "kernelspec": {
      "language": "python",
      "display_name": "Python 3",
      "name": "python3"
    },
    "language_info": {
      "pygments_lexer": "ipython3",
      "nbconvert_exporter": "python",
      "version": "3.6.4",
      "file_extension": ".py",
      "codemirror_mode": {
        "name": "ipython",
        "version": 3
      },
      "name": "python",
      "mimetype": "text/x-python"
    },
    "colab": {
      "provenance": [],
      "include_colab_link": true
    }
  },
  "nbformat_minor": 0,
  "nbformat": 4,
  "cells": [
    {
      "cell_type": "markdown",
      "metadata": {
        "id": "view-in-github",
        "colab_type": "text"
      },
      "source": [
        "<a href=\"https://colab.research.google.com/github/truongnd2608/Genetic-Algorithm/blob/main/Tutorial_of_Genetic_Algorithm.ipynb\" target=\"_parent\"><img src=\"https://colab.research.google.com/assets/colab-badge.svg\" alt=\"Open In Colab\"/></a>"
      ]
    },
    {
      "source": [
        "\n",
        "# IMPORTANT: RUN THIS CELL IN ORDER TO IMPORT YOUR KAGGLE DATA SOURCES\n",
        "# TO THE CORRECT LOCATION (/kaggle/input) IN YOUR NOTEBOOK,\n",
        "# THEN FEEL FREE TO DELETE THIS CELL.\n",
        "# NOTE: THIS NOTEBOOK ENVIRONMENT DIFFERS FROM KAGGLE'S PYTHON\n",
        "# ENVIRONMENT SO THERE MAY BE MISSING LIBRARIES USED BY YOUR\n",
        "# NOTEBOOK.\n",
        "\n",
        "import os\n",
        "import sys\n",
        "from tempfile import NamedTemporaryFile\n",
        "from urllib.request import urlopen\n",
        "from urllib.parse import unquote, urlparse\n",
        "from urllib.error import HTTPError\n",
        "from zipfile import ZipFile\n",
        "import tarfile\n",
        "import shutil\n",
        "\n",
        "CHUNK_SIZE = 40960\n",
        "DATA_SOURCE_MAPPING = 'full-filled-brain-stroke-dataset:https%3A%2F%2Fstorage.googleapis.com%2Fkaggle-data-sets%2F2343381%2F3949526%2Fbundle%2Farchive.zip%3FX-Goog-Algorithm%3DGOOG4-RSA-SHA256%26X-Goog-Credential%3Dgcp-kaggle-com%2540kaggle-161607.iam.gserviceaccount.com%252F20240418%252Fauto%252Fstorage%252Fgoog4_request%26X-Goog-Date%3D20240418T123300Z%26X-Goog-Expires%3D259200%26X-Goog-SignedHeaders%3Dhost%26X-Goog-Signature%3D72eefa878ca901a6d067e69d8aa9ef4505b8728d8a81f3ac2803fac0c1508d3240a9e8a891307bdbec2ac7443fe4ed31317ae2ba52cbd7a3d46fef1c78d034234190913d3bfc795d4d656ab6a422d60783779fe2bf3b693d41ae650c953a77618c1befac9e1c357c908bc5eadd19d2a6722777fe71c10cbf712b2fc40161e0925f83b7eec6a4b92e96838f67e605482d47ba0ec9c566bdec899d256bb5211ba81988467f16b2c8d126e71d4960bb2fef43366d7cda6f2a7b86c6252bfd6658123644d4b849a59b9c46dbfb1c11f8e510d41a4a0169e65e1d3ee2ea7bfd28e8dccf8480a7a65d2e0ef820a874ea1b8344e3d967f2da79b19ed83e013f00c254aa'\n",
        "\n",
        "KAGGLE_INPUT_PATH='/kaggle/input'\n",
        "KAGGLE_WORKING_PATH='/kaggle/working'\n",
        "KAGGLE_SYMLINK='kaggle'\n",
        "\n",
        "!umount /kaggle/input/ 2> /dev/null\n",
        "shutil.rmtree('/kaggle/input', ignore_errors=True)\n",
        "os.makedirs(KAGGLE_INPUT_PATH, 0o777, exist_ok=True)\n",
        "os.makedirs(KAGGLE_WORKING_PATH, 0o777, exist_ok=True)\n",
        "\n",
        "try:\n",
        "  os.symlink(KAGGLE_INPUT_PATH, os.path.join(\"..\", 'input'), target_is_directory=True)\n",
        "except FileExistsError:\n",
        "  pass\n",
        "try:\n",
        "  os.symlink(KAGGLE_WORKING_PATH, os.path.join(\"..\", 'working'), target_is_directory=True)\n",
        "except FileExistsError:\n",
        "  pass\n",
        "\n",
        "for data_source_mapping in DATA_SOURCE_MAPPING.split(','):\n",
        "    directory, download_url_encoded = data_source_mapping.split(':')\n",
        "    download_url = unquote(download_url_encoded)\n",
        "    filename = urlparse(download_url).path\n",
        "    destination_path = os.path.join(KAGGLE_INPUT_PATH, directory)\n",
        "    try:\n",
        "        with urlopen(download_url) as fileres, NamedTemporaryFile() as tfile:\n",
        "            total_length = fileres.headers['content-length']\n",
        "            print(f'Downloading {directory}, {total_length} bytes compressed')\n",
        "            dl = 0\n",
        "            data = fileres.read(CHUNK_SIZE)\n",
        "            while len(data) > 0:\n",
        "                dl += len(data)\n",
        "                tfile.write(data)\n",
        "                done = int(50 * dl / int(total_length))\n",
        "                sys.stdout.write(f\"\\r[{'=' * done}{' ' * (50-done)}] {dl} bytes downloaded\")\n",
        "                sys.stdout.flush()\n",
        "                data = fileres.read(CHUNK_SIZE)\n",
        "            if filename.endswith('.zip'):\n",
        "              with ZipFile(tfile) as zfile:\n",
        "                zfile.extractall(destination_path)\n",
        "            else:\n",
        "              with tarfile.open(tfile.name) as tarfile:\n",
        "                tarfile.extractall(destination_path)\n",
        "            print(f'\\nDownloaded and uncompressed: {directory}')\n",
        "    except HTTPError as e:\n",
        "        print(f'Failed to load (likely expired) {download_url} to path {destination_path}')\n",
        "        continue\n",
        "    except OSError as e:\n",
        "        print(f'Failed to load {download_url} to path {destination_path}')\n",
        "        continue\n",
        "\n",
        "print('Data source import complete.')\n"
      ],
      "metadata": {
        "id": "B7AKIO37MjO-",
        "outputId": "a55a9168-749b-487d-8d8a-8a8443a652cd",
        "colab": {
          "base_uri": "https://localhost:8080/"
        }
      },
      "cell_type": "code",
      "outputs": [
        {
          "output_type": "stream",
          "name": "stdout",
          "text": [
            "Downloading full-filled-brain-stroke-dataset, 53377 bytes compressed\n",
            "[==================================================] 53377 bytes downloaded\n",
            "Downloaded and uncompressed: full-filled-brain-stroke-dataset\n",
            "Data source import complete.\n"
          ]
        }
      ],
      "execution_count": null
    },
    {
      "cell_type": "markdown",
      "source": [
        "# TUTORIAL of GENETIC ALGORITHM"
      ],
      "metadata": {
        "id": "DeUqTDpSMjO_"
      }
    },
    {
      "cell_type": "code",
      "source": [
        "# Required Libraries\n",
        "import numpy as np\n",
        "import pandas as pd\n",
        "import matplotlib.pyplot as plt\n",
        "import seaborn as sns\n",
        "import copy\n",
        "import warnings"
      ],
      "metadata": {
        "execution": {
          "iopub.status.busy": "2022-07-18T01:02:17.150653Z",
          "iopub.execute_input": "2022-07-18T01:02:17.151228Z",
          "iopub.status.idle": "2022-07-18T01:02:17.683096Z",
          "shell.execute_reply.started": "2022-07-18T01:02:17.15112Z",
          "shell.execute_reply": "2022-07-18T01:02:17.681772Z"
        },
        "trusted": true,
        "id": "CANdQKcEMjPA"
      },
      "execution_count": null,
      "outputs": []
    },
    {
      "cell_type": "markdown",
      "source": [
        "# Genetic Algorithm\n",
        "\n",
        "* This theory has inspired evolutionary computation to solve optimization problems, feature selection, classic knapsack problem, and many more. The knapsack problem has been studied for more than a century, with early works dating as far back as 1897. The name \"knapsack problem\" dates back to the early works of the mathematician Tobias Dantzig (1884–1956),and refers to the commonplace problem of packing the most valuable or useful items without overloading the luggage.\n",
        "\n",
        "* Let’s understand the application of the genetic algorithm with a knapsack problem. The knapsack problem is a problem in combinatorial optimization: Given a set of items, each with a weight and a value, determine the number of each item to include in a collection so that the total weight is less than or equal to a given limit and the total value is as large as possible. It derives its name from the problem faced by someone who is constrained by a fixed-size knapsack and must fill it with the most valuable items. The problem often arises in resource allocation where the decision-makers have to choose from a set of non-divisible projects or tasks under a fixed budget or time constraint, respectively.\n",
        "\n",
        "\n",
        "* For example: Suppose we are on a treasure hunt, and after all the efforts and hard work, we finally find the treasure in a deep-down cave full of gold and diamond ornaments. The first thing we desire to do is fill our backpack with as many ornaments as possible. However, a few parameters have to be taken care of in our problem, and our backpack has limited space. It cannot carry a weight of more than 35 kilograms.\n",
        "\n",
        "* Next, we have to choose the ornaments optimally such that the backpack is not overloaded, all the ornaments we choose must be highly valued, and one ornament should not damage the other within the backpack — this where a genetic algorithm comes into play to optimize our problem by taking care of all the parameters.\n",
        "\n",
        "\n",
        "![](https://upload.wikimedia.org/wikipedia/commons/thumb/f/fd/Knapsack.svg/500px-Knapsack.svg.png)"
      ],
      "metadata": {
        "id": "c0x6X6ueMjPB"
      }
    },
    {
      "cell_type": "markdown",
      "source": [
        "# Optimization\n",
        "* In optimization, we start with some kind of initial values for the variables used in the experiment. Because these values may not be the best ones to use, we should change them until getting the best ones. In some cases, these values are generated by complex functions that we cannot solve manually easily. But it is very important to do optimization because a classifier may produce a bad classification accuracy not because, for example, the data is noisy or the used learning algorithm is weak but due to the bad selection of the learning parameters initial values. As a result, there are different optimization techniques suggested by operation research (OR) researchers to do such work of optimization. According to, optimization techniques are categorized into four main categories:\n",
        "\n",
        "1.      Constrained Optimization\n",
        "\n",
        "2.      Multimodal Optimization\n",
        "\n",
        "3.      Multiobjective Optimization\n",
        "\n",
        "4.      Combinatorial Optimization\n",
        "\n",
        "\n",
        "* Looking at various natural species, we can note how they evolve and adapt to their environments. We can benefit from such already existing natural systems and their natural evolution to create our artificial systems doing the same job. This is called bionics. For example, the plane is based on how the birds fly, radar comes from bats, submarine invented based on fish, and so on. As a result, principles of some optimization algorithms comes from nature. For example, Genetic Algorithm (GA) has its core idea from Charles Darwin’s theory of natural evolution “survival of the fittest”. Before getting into the details of how GA works, we can get an overall idea about evolutionary algorithms (EAs).\n",
        "\n",
        "![](https://teknoloji-tasarim.com/wp-content/uploads/2019/10/charles-darwin-22.jpg)\n",
        "\n",
        "\n",
        "## Evolutionary Algorithms (EAs)\n",
        "\n",
        "* Traditional calculus based methods work by starting at a random point and by moving in the direction of the gradient, till we reach the top of the hill. This technique is efficient and works very well for single-peaked objective functions like the cost function in linear regression. But, in most real-world situations, we have a very complex problem called as landscapes, which are made of many peaks and many valleys, which causes such methods to fail, as they suffer from an inherent tendency of getting stuck at the local optima as shown in the following figure.\n",
        "\n",
        "![](https://media-exp1.licdn.com/dms/image/C4D12AQE-FoZsSdC1WA/article-inline_image-shrink_1000_1488/0/1590088631920?e=1659571200&v=beta&t=W7r1rQasC9pqPpjiwjYjnoaueYbSPlB7gMkm9PHOR_M)\n",
        "\n",
        "\n",
        "* For example, Genetic Algorithm (GA) has its core idea from Charles Darwin’s theory of natural evolution “survival of the fittest”. Before getting into the details of how GA works, we can get an overall idea about evolutionary algorithms (EAs). The difference between traditional algorithms and EAs is that EAs are not static but dynamic as they can evolve over time.\n",
        "\n",
        "### Evolutionary algorithms have three main characteristics:\n",
        "\n",
        "1.      Population-Based: Evolutionary algorithms are to optimize a process in which current solutions are bad to generate new better solutions. The set of current solutions from which new solutions are to be generated is called the population.\n",
        "\n",
        "2.      Fitness-Oriented: If there are some several solutions, how to say that one solution is better than another? There is a fitness value associated with each individual solution calculated from a fitness function. Such fitness value reflects how good the solution is.\n",
        "\n",
        "3.      Variation-Driven: If there is no acceptable solution in the current population according to the fitness function calculated from each individual, we should make something to generate new better solutions. As a result, individual solutions will undergo a number of variations to generate new solutions.\n",
        "\n",
        "### Genetic Algorithm (GA)\n",
        "*  The genetic algorithm is a random-based classical evolutionary algorithm and which that combinatorial optimization algorithm.  Genetic Algorithms is also combinatorial optimization algorithm. By random here we mean that in order to find a solution using the GA, random changes applied to the current solutions to generate new ones. Note that GA may be called Simple GA (SGA) due to its simplicity compared to other EAs.\n",
        "\n",
        "* GA is based on Darwin’s theory of evolution. It is a slow gradual process that works by making changes to the making slight and slow changes. Also, GA makes slight changes to its solutions slowly until getting the best solution."
      ],
      "metadata": {
        "id": "8CDsfCz1MjPB"
      }
    },
    {
      "cell_type": "markdown",
      "source": [
        "![](https://www.pcimedia.org/wp-content/uploads/2020/05/Screen-Shot-2020-05-11-at-10.19.12-AM.png)\n",
        "\n",
        "[Reference from contributor of PyGAD](https://www.linkedin.com/pulse/introduction-optimization-genetic-algorithm-ahmed-gad/)"
      ],
      "metadata": {
        "id": "0otM2e9CMjPB"
      }
    },
    {
      "cell_type": "markdown",
      "source": [
        "## Here is the description of how the GA works:\n",
        "\n",
        "### Steps in a Genetic Algorithm\n",
        "* 1. Initialize population\n",
        "* 2. Select parents by evaluating their fitness\n",
        "* 3. Crossover parents to reproduce\n",
        "* 4. Mutate the offsprings\n",
        "* 5. Evaluate the offsprings\n",
        "* 6. Merge offsprings with the main population and sort\n",
        "\n",
        "* GA works on a population consisting of some solutions where the population size (popsize) is the number of solutions. Each solution is called individual. Each individual solution has a chromosome. The chromosome is represented as a set of parameters (features) that defines the individual. Each chromosome has a set of genes. Each gene is represented by somehow such as being represented as a string of 0 s and 1 s as in the next diagram.\n",
        "\n",
        "[Refenrence from](https://pub.towardsai.net/genetic-algorithm-ga-introduction-with-example-code-e59f9bc58eaf)"
      ],
      "metadata": {
        "id": "ViBtJBIsMjPC"
      }
    },
    {
      "cell_type": "markdown",
      "source": [
        "### What is the terms of Gene - Chromosome - Population\n",
        "\n",
        "![](https://miro.medium.com/max/1400/0*UHuCl0mv5gojuGId.jpeg)\n",
        "\n",
        "* Each columns of population are knowing as gene location.\n",
        "\n",
        "* Also, each individual has a fitness value. To select the best individuals, a fitness function is used. The result of the fitness function is the fitness value representing the quality of the solution. The higher the fitness value the higher the quality the solution. Selection of the best individuals based on their quality is applied to generate what is called a mating pool where the higher quality individual has higher probability of being selected in the mating pool.\n",
        "\n",
        "* The individuals in the mating pool are called parents. Every two parents selected from the mating pool will generate two offspring (children). By just mating high-quality individuals, it is expected to get a better quality offspring than its parents. This will kill the bad individuals from generating more bad individuals. By keeping selecting and mating high-quality individuals, there will be higher chances to just keep good properties of the individuals and leave out bad ones. Finally, this will end up with the desired optimal or acceptable solution. (As known as elitism: A practical variant of the general process of constructing a new population is to allow the best organism(s) from the current generation to carry over to the next, unaltered. This strategy is known as elitist selection and guarantees that the solution quality obtained by the GA will not decrease from one generation to the next. But here in the real world, things don't work that way. )\n",
        "\n",
        "* But the offspring currently generated using the selected parents just have the characteristics of its parents and no more without changes. There is no new added to it and thus the same drawbacks in its parents will actually exist in the new offspring. To overcome such problem, some changes will be applied to each offspring to create new individuals. The set of all newly generated individuals will be the new population that replaces the previously used old population. Each population created is called a generation. The process of replacing the old population by the new one is called replacement. The following diagram summarizes the steps of GA.\n",
        "\n",
        "<a href=\"https://imgbb.com/\"><img src=\"https://i.ibb.co/f167tW2/Untitled-Diagram-drawio-1.png\" alt=\"Untitled-Diagram-drawio-1\" border=\"0\"></a>"
      ],
      "metadata": {
        "id": "ALS3zoe_MjPC"
      }
    },
    {
      "cell_type": "markdown",
      "source": [
        "#### There are two questions to be answered to get the full idea about GA:\n",
        "\n",
        "1.      How the two offspring are generated from the two parents?\n",
        "\n",
        "2.      How each offspring gets slightly changed to be an individual?\n",
        "\n",
        "We will answer these questions later.\n",
        "\n",
        "### Chromosome Representation and Evaluation\n",
        "\n",
        "* There are different representations available for the chromosome and the selection of the proper representation is problem specific. The good representation is what makes the search space smaller and thus easier search.\n",
        "\n",
        "* The representations available for the chromosome including:\n",
        "    * Binary: Each chromosome is represented as a string of zeros\n",
        "    * Permutation: Useful for ordering problems such as travelling salesman\n",
        "    * Value: The actual value is encoded\n",
        "    \n",
        "* For example, if we are to encode the number 7 in binary, it might look as follows:\n",
        "\n",
        "\n",
        "![](https://media-exp2.licdn.com/dms/image/C5612AQHsFFrk4dc5ww/article-inline_image-shrink_1000_1488/0/1520023968592?e=1663804800&v=beta&t=0hNb__MOVeKlRHahdS21QAq9GAMYmzmLqQmHmvtx3Ts)\n",
        "\n",
        "* Each part of the above chromosome is called gene. Each gene has two properties. The first one is its value (allele) and the second one is the location (locus) within the chromosome which is the number above its value.\n",
        "\n",
        "#### Each chromosome has two representations.\n",
        "\n",
        "#### 1.      genotype: The set of genes representing the chromosome.\n",
        "\n",
        "#### 2.      phenotype: The actual physical representation of the chromosome.\n",
        "\n",
        "* In the above example, binary of 0111 is the genotype and 7 is the phenotype representation.\n",
        "\n",
        "* After representing each chromosome the right way to serve to search the space, next is to calculate the fitness value of each individual. Assume that the fitness function used in our example is:\n",
        "\n",
        "    * f(x) = 2x+2 Where x is the chromosome value\n",
        "\n",
        "* Then the fitness value of the previous chromosome is:\n",
        "\n",
        "    * f(7) = 2(7)+2=16\n",
        "\n",
        "* The process of calculating the fitness value of a chromosome is called evaluation.\n",
        "\n",
        "* Suppose the x can taking arange (0,10) and global minimum value of the function is assumed to be 2.\n",
        "\n",
        "    * f(xn) = 2\n",
        "    * Binary of numbers:\n",
        "    \n",
        "        * 0 = 0000\n",
        "        * 1 = 0001\n",
        "        * 2 = 0010\n",
        "        * 3 = 0011\n",
        "        * 4 = 0100\n",
        "        * 5 = 0101\n",
        "        * 6 = 0110\n",
        "        * 7 = 0111\n",
        "        * 8 = 1000\n",
        "        * 9 = 1001\n",
        "        * 10 = 1010\n",
        "        \n",
        "     * Here we have one dimensional function and our population is limitly, we are making mutation randomly. After that, I will explain another two dimensional sphere function.\n",
        "          \n",
        "          * Transactions:\n",
        "              * 0111 was used in generation 1 (random) --> f(7) = 16 cost is high\n",
        "                  * Here have two probability:\n",
        "                      * Randomly selecting in all probabilities:\n",
        "                          * 1111 was used in generation  --> f(15) = out of range\n",
        "                          * 0000 was used in generation  --> f(0) = 2\n",
        "                          * Randomly selection havent any strategy and it is not guarented to desired result\n",
        "                      * Elitist function make reducing x value:\n",
        "                          * 0110 was used in generation  --> f(6) = 14 cost is high\n",
        "                          * 0100 was used in generation  --> f(4) = 10 cost is high\n",
        "                          * 0000 was used in generation  --> f(0) = 2 yes we find\n",
        "                          * Maybe our process longer with another finding strategy.\n",
        "\n",
        "#### In this section, we learned that the genetic process changes the genotype of the subject. Then changed genotype represented itself with another phenotype of the subject and this subject's fitness. The optimization strategy may be random or elitist but we will use an elitist strategy.\n"
      ],
      "metadata": {
        "id": "QsfmvFR0MjPC"
      }
    },
    {
      "cell_type": "markdown",
      "source": [
        "### Another example for fitting the desire result with letters.\n",
        "*code from geeksforgeeks*\n",
        "![](https://static.euronews.com/articles/stories/05/04/21/50/1000x563_cmsv2_afe3c13c-f5df-54bb-9736-60effd3f8d49-5042150.jpg)"
      ],
      "metadata": {
        "id": "7Fe97uh1MjPC"
      }
    },
    {
      "cell_type": "code",
      "source": [
        "# code from: https://www.geeksforgeeks.org/genetic-algorithms/\n",
        "\n",
        "import random\n",
        "\n",
        "# Number of individuals in each generation\n",
        "POPULATION_SIZE = 100\n",
        "\n",
        "# Valid genes\n",
        "GENES = '''abcdefghijklmnopqrstuvwxyzABCDEFGHIJKLMNOP\n",
        "QRSTUVWXYZ 1234567890, .-;:_!\"#%&/()=?@${[]}'''\n",
        "\n",
        "# Target string to be generated\n",
        "TARGET = \"Kaggle!\"\n",
        "\n",
        "class Individual(object):\n",
        "\t'''\n",
        "\tClass representing individual in population\n",
        "\t'''\n",
        "\tdef __init__(self, chromosome):\n",
        "\t\tself.chromosome = chromosome\n",
        "\t\tself.fitness = self.cal_fitness()\n",
        "\n",
        "\t@classmethod\n",
        "\tdef mutated_genes(self):\n",
        "\t\t'''\n",
        "\t\tcreate random genes for mutation\n",
        "\t\t'''\n",
        "\t\tglobal GENES\n",
        "\t\tgene = random.choice(GENES)\n",
        "\t\treturn gene\n",
        "\n",
        "\t@classmethod\n",
        "\tdef create_gnome(self):\n",
        "\t\t'''\n",
        "\t\tcreate chromosome or string of genes\n",
        "\t\t'''\n",
        "\t\tglobal TARGET\n",
        "\t\tgnome_len = len(TARGET)\n",
        "\t\treturn [self.mutated_genes() for _ in range(gnome_len)]\n",
        "\n",
        "\tdef mate(self, par2):\n",
        "\t\t'''\n",
        "\t\tPerform mating and produce new offspring\n",
        "\t\t'''\n",
        "\n",
        "\t\t# chromosome for offspring\n",
        "\t\tchild_chromosome = []\n",
        "\t\tfor gp1, gp2 in zip(self.chromosome, par2.chromosome):\n",
        "\n",
        "\t\t\t# random probability\n",
        "\t\t\tprob = random.random()\n",
        "\n",
        "\t\t\t# if prob is less than 0.45, insert gene\n",
        "\t\t\t# from parent 1\n",
        "\t\t\tif prob < 0.45:\n",
        "\t\t\t\tchild_chromosome.append(gp1)\n",
        "\n",
        "\t\t\t# if prob is between 0.45 and 0.90, insert\n",
        "\t\t\t# gene from parent 2\n",
        "\t\t\telif prob < 0.90:\n",
        "\t\t\t\tchild_chromosome.append(gp2)\n",
        "\n",
        "\t\t\t# otherwise insert random gene(mutate),\n",
        "\t\t\t# for maintaining diversity\n",
        "\t\t\telse:\n",
        "\t\t\t\tchild_chromosome.append(self.mutated_genes())\n",
        "\n",
        "\t\t# create new Individual(offspring) using\n",
        "\t\t# generated chromosome for offspring\n",
        "\t\treturn Individual(child_chromosome)\n",
        "\n",
        "\tdef cal_fitness(self):\n",
        "\t\t'''\n",
        "\t\tCalculate fitness score, it is the number of\n",
        "\t\tcharacters in string which differ from target\n",
        "\t\tstring.\n",
        "\t\t'''\n",
        "\t\tglobal TARGET\n",
        "\t\tfitness = 0\n",
        "\t\tfor gs, gt in zip(self.chromosome, TARGET):\n",
        "\t\t\tif gs != gt: fitness+= 1\n",
        "\t\treturn fitness\n",
        "\n",
        "# Driver code\n",
        "def main():\n",
        "\tglobal POPULATION_SIZE\n",
        "\n",
        "\t#current generation\n",
        "\tgeneration = 1\n",
        "\n",
        "\tfound = False\n",
        "\tpopulation = []\n",
        "\n",
        "\t# create initial population\n",
        "\tfor _ in range(POPULATION_SIZE):\n",
        "\t\t\t\tgnome = Individual.create_gnome()\n",
        "\t\t\t\tpopulation.append(Individual(gnome))\n",
        "\n",
        "\twhile not found:\n",
        "\n",
        "\t\t# sort the population in increasing order of fitness score\n",
        "\t\tpopulation = sorted(population, key = lambda x:x.fitness)\n",
        "\n",
        "\t\t# if the individual having lowest fitness score ie.\n",
        "\t\t# 0 then we know that we have reached to the target\n",
        "\t\t# and break the loop\n",
        "\t\tif population[0].fitness <= 0:\n",
        "\t\t\tfound = True\n",
        "\t\t\tbreak\n",
        "\n",
        "\t\t# Otherwise generate new offsprings for new generation\n",
        "\t\tnew_generation = []\n",
        "\n",
        "\t\t# Perform Elitism, that mean 10% of fittest population\n",
        "\t\t# goes to the next generation\n",
        "\t\ts = int((10*POPULATION_SIZE)/100)\n",
        "\t\tnew_generation.extend(population[:s])\n",
        "\n",
        "\t\t# From 50% of fittest population, Individuals\n",
        "\t\t# will mate to produce offspring\n",
        "\t\ts = int((90*POPULATION_SIZE)/100)\n",
        "\t\tfor _ in range(s):\n",
        "\t\t\tparent1 = random.choice(population[:50])\n",
        "\t\t\tparent2 = random.choice(population[:50])\n",
        "\t\t\tchild = parent1.mate(parent2)\n",
        "\t\t\tnew_generation.append(child)\n",
        "\n",
        "\t\tpopulation = new_generation\n",
        "\n",
        "\t\tprint(\"Generation: {}\\tString: {}\\tFitness: {}\".\\\n",
        "\t\t\tformat(generation,\n",
        "\t\t\t\"\".join(population[0].chromosome),\n",
        "\t\t\tpopulation[0].fitness))\n",
        "\n",
        "\t\tgeneration += 1\n",
        "\n",
        "\n",
        "\tprint(\"Generation: {}\\tString: {}\\tFitness: {}\".\\\n",
        "\t\tformat(generation,\n",
        "\t\t\"\".join(population[0].chromosome),\n",
        "\t\tpopulation[0].fitness))\n",
        "\n",
        "if __name__ == '__main__':\n",
        "\tmain()"
      ],
      "metadata": {
        "trusted": true,
        "id": "QCIi5c9YMjPD",
        "outputId": "795d2efb-4c01-4146-b0fd-a6c8cbeb9ffd",
        "colab": {
          "base_uri": "https://localhost:8080/"
        }
      },
      "execution_count": null,
      "outputs": [
        {
          "output_type": "stream",
          "name": "stdout",
          "text": [
            "Generation: 1\tString: lh)/Xq!\tFitness: 6\n",
            "Generation: 2\tString: KLu 9e6\tFitness: 5\n",
            "Generation: 3\tString: KLu 9e6\tFitness: 5\n",
            "Generation: 4\tString: K]g19e[\tFitness: 4\n",
            "Generation: 5\tString: K]g19e[\tFitness: 4\n",
            "Generation: 6\tString: K4g)9e!\tFitness: 3\n",
            "Generation: 7\tString: K4g)9e!\tFitness: 3\n",
            "Generation: 8\tString: K4g)9e!\tFitness: 3\n",
            "Generation: 9\tString: KaggSe[\tFitness: 2\n",
            "Generation: 10\tString: KaggSe[\tFitness: 2\n",
            "Generation: 11\tString: Kagg%e!\tFitness: 1\n",
            "Generation: 12\tString: Kagg%e!\tFitness: 1\n",
            "Generation: 13\tString: Kagg%e!\tFitness: 1\n",
            "Generation: 14\tString: Kagg%e!\tFitness: 1\n",
            "Generation: 15\tString: Kaggle!\tFitness: 0\n"
          ]
        }
      ]
    },
    {
      "cell_type": "markdown",
      "source": [
        "* Our desired result is \"Kaggle!\"\n",
        "* Our chromosome length is 7 letters.\n",
        "* The population has one sample.\n",
        "* The first generation was selected randomly (\"HaXrH#!\") but their chromosome length same with the sample. The nineteenth generation evolved the desired result.\n",
        "* I think that these examples really explained the mutation process."
      ],
      "metadata": {
        "id": "13Vtg1b1MjPD"
      }
    },
    {
      "cell_type": "markdown",
      "source": [
        "### Let's to optimizing to sphere function.\n",
        "![](https://www.mdpi.com/data/data-07-00046/article_deploy/html/images/data-07-00046-g0A1.png)"
      ],
      "metadata": {
        "id": "qteZhpV4MjPD"
      }
    },
    {
      "cell_type": "code",
      "source": [
        "# cost function\n",
        "def sphere(x):\n",
        "    return sum(x**2)\n",
        "# Placeholder for every individual\n",
        "population = {}\n",
        "# population size\n",
        "npop = 20\n",
        "# lower bound\n",
        "varmin = -10\n",
        "# upper bound\n",
        "varmax = 10\n",
        "# cost function\n",
        "costfunc = sphere\n",
        "# each inidivdual has position(chromosomes) and cost\n",
        "for i in range(npop):\n",
        "    population[i] = {'position': None, 'cost': None}\n",
        "    # Best solution found\n",
        "    # create individual as many as population size(npop)\n",
        "bestsol = copy.deepcopy(population)\n",
        "bestsol_cost = np.inf\n",
        "for i in range(npop):\n",
        "    population[i] = {'position': None, 'cost': None}\n",
        "for i in range(npop):\n",
        "    population[i]['position'] = np.random.uniform(varmin, varmax,npop)\n",
        "    population[i]['cost'] = costfunc(population[i]['position'])"
      ],
      "metadata": {
        "execution": {
          "iopub.status.busy": "2022-07-18T01:03:16.70033Z",
          "iopub.execute_input": "2022-07-18T01:03:16.700768Z",
          "iopub.status.idle": "2022-07-18T01:03:16.711148Z",
          "shell.execute_reply.started": "2022-07-18T01:03:16.700716Z",
          "shell.execute_reply": "2022-07-18T01:03:16.710114Z"
        },
        "trusted": true,
        "id": "dKeLTGXtMjPD"
      },
      "execution_count": null,
      "outputs": []
    },
    {
      "cell_type": "markdown",
      "source": [
        "* We create a dictionary to hold the population, and each individual is associated with chromosomes(position) and a cost. The position is filled with randomly generated uniformly distributed numbers(genes) with a lower limit -10 and an upper limit +10. Cost is the cost function we are trying to optimize. In this tutorial, we will be optimizing the sum of squares of x, where x is the individual gene of each chromosome."
      ],
      "metadata": {
        "id": "BMFh3z0WMjPD"
      }
    },
    {
      "cell_type": "markdown",
      "source": [
        "# Parent Selection\n",
        "* During each successive generation, a portion of the existing population is selected to breed a new generation. Individual solutions are selected through a fitness-based process. As we are in generation 0, we do not have offsprings. We select parents from our randomly generated population. There are three main methods to define the best fit individuals and select for breeding.\n",
        "\n",
        "## Random selection:\n",
        "* This is the simplest and most inefficient way of selecting parents. In this method, we shuffle the population by performing permutation and select the first two individuals as parents for breeding. This method is not recommended because it does not follow “Darwin’s Theory of Evolution by Natural Selection,” wherein individuals are selected based on their fitness, not randomly.\n",
        "\n",
        "![](https://welcm.uk/storage/wink/images/fW3Goup1rN5BTyR0ZMBZmwsHHPdhcKivcsLSOWgH.jpeg)"
      ],
      "metadata": {
        "id": "CDCJTBp6MjPE"
      }
    },
    {
      "cell_type": "code",
      "source": [
        "# For random selection\n",
        "q = np.random.permutation(npop)\n",
        "p1 = population[q[0]]\n",
        "p2 = population[q[1]]"
      ],
      "metadata": {
        "execution": {
          "iopub.status.busy": "2022-07-18T01:03:33.009531Z",
          "iopub.execute_input": "2022-07-18T01:03:33.010558Z",
          "iopub.status.idle": "2022-07-18T01:03:33.016485Z",
          "shell.execute_reply.started": "2022-07-18T01:03:33.010517Z",
          "shell.execute_reply": "2022-07-18T01:03:33.015183Z"
        },
        "trusted": true,
        "id": "qhZZ1ha8MjPE"
      },
      "execution_count": null,
      "outputs": []
    },
    {
      "cell_type": "markdown",
      "source": [
        "### Tournament selection:\n",
        "This method is based on the probability of selection of each individual. We run several tournaments among a randomly selected group of individuals, select one individual from each group as the winner, and again run the tournament by grouping winners from the first iteration, repeat the process until we converge to two winners parents for breeding. The best member of each group in every iteration has the highest probability of selection.\n",
        "\n",
        "![](https://www.researchgate.net/profile/Elisaveta-Shopova/publication/235719002/figure/fig3/AS:669390773161986@1536606605073/Principle-of-tournament-selection.ppm)"
      ],
      "metadata": {
        "id": "jWOx_7caMjPE"
      }
    },
    {
      "cell_type": "markdown",
      "source": [
        "### Roulette wheel selection:\n",
        "This is a widely used and most efficient method for selecting parents; hence we will be using it today in our algorithm. We all know how the roulette wheel works in casinos, drop the ball, spin the wheel, and wait till the wheel stops to see which pot the ball falls in. Let’s take a deeper dive into the implementation part.\n",
        "![](https://miro.medium.com/max/1400/1*7sMoHK26bY2O-NzZBGqSmw.png)"
      ],
      "metadata": {
        "id": "ORCu3QWfMjPE"
      }
    },
    {
      "cell_type": "markdown",
      "source": [
        "The only difference between the casino roulette wheel and the roulette wheel method for parent selection is that in the casino roulette wheel, each pot has an equal probability of holding the ball when the wheel stops rotating. However, here we define the probability for each pot(individual of the population). The probability of each individual is called the fitness of the individual.\n",
        "![](https://miro.medium.com/max/1400/0*1KZQfvbi5T2h_rKk.png)"
      ],
      "metadata": {
        "id": "d6nbqL1PMjPE"
      }
    },
    {
      "cell_type": "markdown",
      "source": [
        "* We have four parents P1, P2, P3, and P4, with the probability of being selected for breeding 0.1, 0.2, 0.3, 0.4, respectively. The arrow is fixed at a place, and the wheel is rotated. When the wheel stops rotating, the parent where the arrow points to is chosen for breeding—the greater the probability larger the area on the wheel, leading to a higher probability of being selected.\n",
        "\n",
        "* Now, how do we implement the roulette wheel programmatically? We open the wheel into a uniform line and divide the line into the number of parents in the population, and each parent occupies the space on the line equal to its probability of being selected, and each cut point is the cumulative sum of probability. Generating a random number between 0 and 1 will act like the arrow that selects the parent for breeding. Here, the random number is 0.28; hence the winner is P2.\n",
        "\n",
        "![](https://miro.medium.com/max/1400/0*RXV2IqV1sT9NapGq.jpeg)"
      ],
      "metadata": {
        "id": "ErxrZ18lMjPE"
      }
    },
    {
      "cell_type": "markdown",
      "source": [
        "* To make it even simpler, we calculate each parent’s probability’s cumulative sum, multiply its sum with a randomly generated number. Then get the index of the first parent whose cumulative value is greater than the random number. For example, P1 has a cumulative value of 0.1, P2 has 0.3, P3 has 0.6, and P4 has 1. If the random number generated is 0.28, then the first parent whose cumulative value is greater than 0.28 is P2 hence the winning parent for breeding. Function argwhere() returns an array of Trues and Falses based on the expression passed as a parameter."
      ],
      "metadata": {
        "id": "itBeJzfDMjPE"
      }
    },
    {
      "cell_type": "code",
      "source": [
        "# Calculating probability for roulette wheel selection\n",
        "beta = 1\n",
        "# Create for list\n",
        "costs = []\n",
        "\n",
        "for i in range(len(population)):\n",
        "   # list of all the population cost\n",
        "   costs.append(population[i]['cost'])\n",
        "costs = np.array(costs)\n",
        "# take mean of all\n",
        "avg_cost = np.mean(costs)\n",
        "if avg_cost != 0:\n",
        "\n",
        "    \"\"\"We calculate each parent’s probability by the exponential of negative beta times costs,\n",
        "    where beta is a pre-defined integer and costs is the cost of each parent divided\n",
        "    by the average cost of all the parents in the population.\"\"\"\n",
        "\n",
        "    costs = costs/avg_cost\n",
        "probs = np.exp(-beta*costs)\n",
        "\n",
        "def roulette_wheel_selection(p):\n",
        "    # cumulative sum creating linear roulette wheel\n",
        "    c = np.cumsum(p)\n",
        "    # sum(p) = calculate to 100%\n",
        "    # create random number\n",
        "    r = sum(p) * np.random.rand()\n",
        "    # sometimes r becomes bigger than c, drop them\n",
        "    # choose non_zero population\n",
        "    ind = np.argwhere(r <= c)\n",
        "    # get the index of the first parent whose cumulative value is greater than the random number.\n",
        "    return ind[0][0]\n",
        "\n",
        "# roulette_wheel_selection(probs) choose randomly indices from population.\n",
        "# lets create parents:\n",
        "\n",
        "p1 = population[roulette_wheel_selection(probs)]\n",
        "print(p1)\n",
        "p2 = population[roulette_wheel_selection(probs)]\n",
        "print(p2)"
      ],
      "metadata": {
        "trusted": true,
        "id": "f7xteUdtMjPE",
        "outputId": "65a44e32-ac96-4bee-dc86-080659980d4a",
        "colab": {
          "base_uri": "https://localhost:8080/"
        }
      },
      "execution_count": null,
      "outputs": [
        {
          "output_type": "stream",
          "name": "stdout",
          "text": [
            "{'position': array([-2.95677839,  1.55475936,  9.6339954 , -1.08843336, -5.05283028,\n",
            "       -5.9481877 ,  5.31210423,  1.67946907, -5.31873631, -8.23272663,\n",
            "       -6.22256654, -3.10732033,  3.33756183, -2.87510561, -0.9619715 ,\n",
            "        3.09514504,  0.45766254,  7.73268096, -0.88429476, -6.83860352]), 'cost': 479.01513439934786}\n",
            "{'position': array([-7.26505956, -0.78144924,  0.39244025,  7.34354875,  6.75943192,\n",
            "       -1.35754198,  4.34271537,  9.4345336 , -4.30651574,  3.50304567,\n",
            "        7.75613807,  3.41791401,  2.83635717,  5.5709242 ,  5.36962002,\n",
            "        6.37243019, -0.48022293, -5.43940855, -2.1517091 ,  6.78622099]), 'cost': 554.5543636901423}\n"
          ]
        }
      ]
    },
    {
      "cell_type": "markdown",
      "source": [
        "## Crossover\n",
        "* Now that we got our two parents for breeding, the next step is to perform crossover/mating/breeding. Crossover refers to the process where certain genes from both the parent chromosomes are overlapped or mixed or swapped to produce new offspring. Since the offspring is the result of the parent chromosomes’ crossover, it inherits both the parents' characteristics. There are three methods to perform crossover.\n",
        "\n",
        "![](https://images.squarespace-cdn.com/content/v1/5c5aed8434c4e20e953d6011/1602410149373-1VJFUM1VLQYQF1O2HZ75/crossing+over.jpg?format=1000w)"
      ],
      "metadata": {
        "id": "LwkDfxKbMjPE"
      }
    },
    {
      "cell_type": "markdown",
      "source": [
        "### Single-point crossover:\n",
        "* In this method, both the parent chromosomes are cut at the same random point, and the leftover parts are swapped to produce two new offspring chromosomes. Yellow-colored genes represent the cutoff part of the chromosome.\n",
        "![](https://miro.medium.com/max/1400/0*4yZ7VBKdQV-kcwBv.jpeg)\n",
        "### Two-point crossover:\n",
        "* A method similar to the single-point crossover, but the only difference is that the parent chromosomes are cut at two random points. Again, the yellow-colored cut off part of the chromosome is swapped.\n",
        "![](https://miro.medium.com/max/1400/0*pQL21129SObz2vAR.jpeg)\n",
        "### Uniform crossover:\n",
        "* We first randomly choose which genes are supposed to be inherited from both the parent chromosomes and genes not inherited are marked in yellow color. Then, we model them as 0s and 1s, which are written in green color. The gene to be inherited is encoded as 1, and the gene that should not be inherited is encoded as 0. This series of 0s and 1s will be referred to as alpha from now on. Multiply the gene value with the corresponding alpha value for both the parents and then add the results to generate a single gene of the offspring chromosome. Let’s consider the first gene of each parent chromosome. For parent-1, the gene value is 1, and the corresponding alpha value is also 1; hence, 1x1=1. For parent-2, gene value is 0 and the corresponding alpha value is also 0 hence, 0x0=0. The first gene of the offspring chromosome is 1+0=1, and so on — this way, we get offspring-1, to reproduce the offspring-2, we take the compliment values of alpha and carry out the same process.\n",
        "![](https://miro.medium.com/max/1400/0*dUczZqdp4q7N_UqU.jpeg)"
      ],
      "metadata": {
        "id": "PqN-zowAMjPF"
      }
    },
    {
      "cell_type": "markdown",
      "source": [
        "* Programatically, we copy both the parents into the child variable: c1, c2. Randomly generate uniformly distributed alpha values between 0 and 1, which is the parent chromosome’s shape (position). The rest of the process remains the same, except, in theory, we take the complement of alpha values to produce offspring-2, whereas, in the program, we swap the parents while multiplying with alpha, which is the same as taking the complement of alpha values."
      ],
      "metadata": {
        "id": "HJKUfyVDMjPF"
      }
    },
    {
      "cell_type": "code",
      "source": [
        "import copy\n",
        "def crossover(p1, p2):\n",
        "    # take a copy of parents\n",
        "    c1 = copy.deepcopy(p1)\n",
        "    c2 = copy.deepcopy(p2)\n",
        "    alpha = np.random.uniform(0, 1, *(c1['position'].shape))\n",
        "    c1['position'] = alpha*p1['position'] + (1-alpha)*p2['position']\n",
        "    c2['position'] = alpha*p2['position'] + (1-alpha)*p1['position']\n",
        "    return c1, c2"
      ],
      "metadata": {
        "trusted": true,
        "id": "NDN-cNyKMjPF"
      },
      "execution_count": null,
      "outputs": []
    },
    {
      "cell_type": "markdown",
      "source": [
        "### Mutation\n",
        "* DNA has two chain codes.\n",
        "* Starting from one:\n",
        "* Nucleic acids are the smallest building blocks for DNA;\n",
        "    * Codon structure makes from three nucleic acids\n",
        "        * Every codon presents one amino acid code\n",
        "        * Human cells can encode 20 aminoacid with 64 codon\n",
        "        * Every DNA process must start with the start codon \"AUG\". \"AUG\" also codes for methionine. On the other hand, codons \"UAA\", \"UAG\" and \"UGA\" are called stop codons and do not code for amino acids.\n",
        "        * Summary, human have 61 codone for encoding to protein. Bu computer science have two.\n",
        "            * Amino acids are the smallest building blocks for protein\n",
        "                * Each protein is represented in DNA by a gene.\n",
        "                    * Scientists estimate that the human genome, for example, has about 20,000 to 25,000 protein-coding genes.\n",
        "                        * You can think of a chromosome is condensed DNA. Human have 46 chromosomes.\n",
        "                        \n",
        "* Mutation:\n",
        "\n",
        "     * Natural selection can adjust the rate of mutation in a population by acting on allelic variation affecting processes of DNA replication and repair. Because mutation is the ultimate source of the genetic variation required for adaptation, it can be appealing to suppose that the genomic mutation rate is adjusted to a level that best promotes adaptation. Most mutations with phenotypic effects are harmful, however, and thus there is relentless selection within populations for lower genomic mutation rates. Selection on beneficial mutations can counter this effect by favoring alleles that raise the mutation rate, but the effect of beneficial mutations on the genomic mutation rate is extremely sensitive to recombination and is unlikely to be important in sexual populations. In contrast, high genomic mutation rates can evolve in asexual populations under the influence of beneficial mutations, but this phenomenon is probably of limited adaptive significance and represents, at best, a temporary reprieve from the continual selection pressure to reduce mutation. The physiological cost of reducing mutation below the low level observed in most populations may be the most important factor in setting the genomic mutation rate in sexual and asexual systems, regardless of the benefits of mutation in producing new adaptive variation. Maintenance of mutation rates higher than the minimum set by this \"cost of fidelity\" is likely only under special circumstances. [references for article](https://onlinelibrary.wiley.com/doi/epdf/10.1002/1521-1878%28200012%2922%3A12%3C1057%3A%3AAID-BIES3%3E3.0.CO%3B2-W)\n",
        "     * Mutation is vital things for life.\n",
        "     \n",
        "     \n",
        "     \n",
        "<a href=\"https://ibb.co/xm2LLS8\"><img src=\"https://i.ibb.co/7gSCCJN/Ekran-Resmi-2022-07-18-01-14-32.png\" alt=\"Ekran-Resmi-2022-07-18-01-14-32\" border=\"0\"></a>\n",
        "\n",
        "#### please check-up for more knowledge:\n",
        "[NIH Genetics Glossary](https://www.genome.gov/genetics-glossary)"
      ],
      "metadata": {
        "id": "jDZw1UWgMjPF"
      }
    },
    {
      "cell_type": "markdown",
      "source": [
        "* More DNA replication means separating chains, especially during reproduction.\n",
        "* Actually, chromosome structure is also an evolutionary structure, because chromosomes are saving genetic materials.\n",
        "* Let's think from the perspective of real cells. Considering that our genetic structure is inherited from our previous ancestors, we accept that our genetic structure as a cell is in the best condition and we would like to pass it on to the next generation as it is or better. For this reason, we must have developed a method to prevent it every time there is a risk of mutation. Otherwise, our ancestors would have already been eliminated, but we are also aware that we can be better. In short, we want mutations, but under more moderate and controlled mechanisms.\n",
        "* I mentioned that we have 64 codone but they represent to 20 nucleic acids. It is another prevention strategy for genetic materials.\n",
        "* Anyway, I'm wrapping up and returning to our main topic. Other questions about genetics please ask in the comment section. :D"
      ],
      "metadata": {
        "id": "0otxvYpeMjPF"
      }
    },
    {
      "cell_type": "markdown",
      "source": [
        "![](https://www.criver.com/sites/default/files/Eureka%20images/Charts%20for%20blogs/COVID-19-VARIANT1-IMAGE.gif)\n",
        "![](https://images.ctfassets.net/4yflszkpcwkt/cM5qlVvFO3nR1PYr80UwR/e90389fa0b38cd0620c9722f60b0fffb/Types-of-Mutations.jpg)"
      ],
      "metadata": {
        "id": "y3sHn3dIMjPF"
      }
    },
    {
      "cell_type": "markdown",
      "source": [
        "### Maybe we can creating other crossover method like as real life."
      ],
      "metadata": {
        "id": "-RiQ0dvGMjPF"
      }
    },
    {
      "cell_type": "markdown",
      "source": [
        "# Mutation (now Genetic Algorithm)\n",
        "* Mutation is a natural process that occurs due to an error in replication or copying of genes. While performing crossover, we replicated the parent chromosomes by mix-matching genes of both the parents. There is no guarantee that the copying of the parent gene is 100% accurate. There always occurs an error, which leads to the scope of exploration. For example, if both of your parents have brown eyes and blue eyes, that is probably because of a mutation that occurred due to an error while copying your parents’ genes, and your subsequent generation might carry forward that characteristic.\n",
        "\n",
        "* Mutating the chromosome in the genetic algorithm is necessary because it may result in revolutionary results that will help solve our problem more efficiently. So, we have three parameters: the child chromosome(c), the mutation rate(mu), and the step size(sigma). The mutation rate(mu) determines the percentage of the child chromosome that undergoes mutation.\n",
        "\n",
        "* To define which genes will be mutated, we generate random numbers and compare them to the mutation rate then we find the indices of the child chromosome(position) that have values less than the mutation rate using the argwhere() function. Replace those indices with new(mutated) genes generated by multiplying the step size(sigma) with randomly generated value and adding it to the original gene."
      ],
      "metadata": {
        "id": "0AjZBHtlMjPF"
      }
    },
    {
      "cell_type": "code",
      "source": [
        "def mutate(c, mu, sigma):\n",
        "   # mu - mutation rate. % of gene to be modified\n",
        "   # sigma - step size of mutation\n",
        "   # mutation = original gene + (step size * random number)\n",
        "    y = copy.deepcopy(c)\n",
        "   # array of True and Flase, indicating the mutation position\n",
        "    flag = np.random.rand(*(c['position'].shape)) <= mu\n",
        "    ind = np.argwhere(flag)\n",
        "    y['position'][ind] += sigma * np.random.randn(*ind.shape)\n",
        "    return y"
      ],
      "metadata": {
        "trusted": true,
        "id": "UOy0igeCMjPG"
      },
      "execution_count": null,
      "outputs": []
    },
    {
      "cell_type": "markdown",
      "source": [
        "# Evaluating the Offsprings\n",
        "Once the offsprings undergo mutation, we need to evaluate them with the cost function to define their fitness. Also, replace the best solution in every generation/iteration."
      ],
      "metadata": {
        "id": "CgYudROQMjPG"
      }
    },
    {
      "cell_type": "code",
      "source": [
        "# Evaluate first off spring\n",
        "# calculate cost function of child 1\n",
        "# Best solution found\n",
        "bestsol = copy.deepcopy(population)\n",
        "# initial best cost is infinity\n",
        "bestsol_cost = np.inf\n",
        "c1,c2 = crossover(p1, p2)\n",
        "c1['cost'] = costfunc(c1['position'])\n",
        "if type(bestsol_cost) == float:\n",
        "  # replacing best solution in every generation/iteration\n",
        "  if c1['cost'] < bestsol_cost:\n",
        "    bestsol_cost = copy.deepcopy(c1)\n",
        "else:\n",
        "   # replacing best solution in every generation/iteration\n",
        "   if c1['cost'] < bestsol_cost['cost']:\n",
        "        bestsol_cost = copy.deepcopy(c1)\n",
        "# Evaluate second off spring\n",
        "if c2['cost'] < bestsol_cost['cost']:\n",
        "    bestsol_cost = copy.deepcopy(c2)\n",
        "\n",
        "print(\"c1 cost\",c1['cost'])\n",
        "print(\"c2 cost\",c2['cost'])"
      ],
      "metadata": {
        "trusted": true,
        "id": "V5KhD0cuMjPG",
        "outputId": "02ebc988-be03-45e8-c1f0-8fccb1354f67",
        "colab": {
          "base_uri": "https://localhost:8080/"
        }
      },
      "execution_count": null,
      "outputs": [
        {
          "output_type": "stream",
          "name": "stdout",
          "text": [
            "c1 cost 329.36560087143573\n",
            "c2 cost 554.5543636901423\n"
          ]
        }
      ]
    },
    {
      "cell_type": "code",
      "source": [
        "# This function holding in borders\n",
        "\n",
        "def bounds(c, varmin, varmax):\n",
        "    #Defines the upper and lower bound of gene value\n",
        "    c['position'] = np.maximum(c['position'], varmin)\n",
        "    c['position'] = np.minimum(c['position'], varmax)\n",
        "    return c['position']\n",
        "\n",
        "c1['position'] = bounds(c1, varmin, varmax)\n",
        "c2['position'] = bounds(c2, varmin, varmax)\n",
        "\n",
        "c1['cost'] = costfunc(c1['position'])\n",
        "c2['cost'] = costfunc(c2['position'])\n",
        "print(\"c1 cost\",c1['cost'])\n",
        "print(\"c2 cost\",c2['cost'])"
      ],
      "metadata": {
        "trusted": true,
        "id": "2C7SAqC1MjPG",
        "outputId": "6f86044c-9c5b-419a-a797-449dfb10ba38",
        "colab": {
          "base_uri": "https://localhost:8080/"
        }
      },
      "execution_count": null,
      "outputs": [
        {
          "output_type": "stream",
          "name": "stdout",
          "text": [
            "c1 cost 329.36560087143573\n",
            "c2 cost 160.05493434493525\n"
          ]
        }
      ]
    },
    {
      "cell_type": "code",
      "source": [
        "# This loop choose the best one and updating with this.\n",
        "if type(bestsol_cost) == float:\n",
        "    # replacing best solution in every generation/iteration,\n",
        "    if c1['cost'] < bestsol_cost:\n",
        "        bestsol_cost = copy.deepcopy(c1)\n",
        "    else:\n",
        "        if c1['cost'] < bestsol_cost['cost']:\n",
        "            bestsol_cost = copy.deepcopy(c1)\n",
        "\n",
        "        elif c2['cost'] < bestsol_cost['cost']:\n",
        "            bestsol_cost = copy.deepcopy(c2)\n",
        "\n",
        "bestsol_cost"
      ],
      "metadata": {
        "trusted": true,
        "id": "iLo7EGBCMjPG",
        "outputId": "3aa345be-40b5-4912-8a46-f910f051e0ee",
        "colab": {
          "base_uri": "https://localhost:8080/"
        }
      },
      "execution_count": null,
      "outputs": [
        {
          "output_type": "execute_result",
          "data": {
            "text/plain": [
              "{'position': array([-7.04210810e+00,  4.84531768e-01,  6.91565987e+00,  4.47673354e+00,\n",
              "         7.39812752e-01, -4.19567229e+00,  4.74929883e+00,  6.30056886e+00,\n",
              "        -4.72661045e+00, -6.21913080e+00, -1.43099881e+00, -2.46639077e+00,\n",
              "         3.09121456e+00,  9.64774353e-03,  3.91449031e+00,  5.43420273e+00,\n",
              "        -5.21136635e-03,  2.21320187e+00, -1.43467393e+00, -8.67585177e-01]),\n",
              " 'cost': 329.36560087143573}"
            ]
          },
          "metadata": {},
          "execution_count": 11
        }
      ]
    },
    {
      "cell_type": "markdown",
      "source": [
        "# Merge Offsprings with the Main Population and Sort\n",
        "Merging the offsprings is vital for them to be considered as parents to reproduce the next generation. Upon sorting the new population, we have better individuals at the top. Since the population size remains the same as the first iteration(npop), the number of individuals at the bottom of the sorted population equal to the number of new offsprings produced in the previous iteration are eliminated from the selection process to breed new offsprings, and the process continues — this is how the process of elimination takes place.\n",
        "\n",
        "![](https://miro.medium.com/max/1400/0*MSgSz6CzQxbwYM9M.jpeg)"
      ],
      "metadata": {
        "id": "2dcZSOKYMjPG"
      }
    },
    {
      "cell_type": "code",
      "source": [
        "# All function for GA\n",
        "\n",
        "# cost function\n",
        "def sphere(x):\n",
        "    return sum(x**2)\n",
        "def roulette_wheel_selection(p):\n",
        "    c = np.cumsum(p)\n",
        "    r = sum(p) * np.random.rand()\n",
        "    ind = np.argwhere(r <= c)\n",
        "    return ind[0][0]\n",
        "def crossover(p1, p2):\n",
        "    c1 = copy.deepcopy(p1)\n",
        "    c2 = copy.deepcopy(p2)\n",
        "    # Uniform crossover\n",
        "    alpha = np.random.uniform(0, 1, *(c1['position'].shape))\n",
        "    c1['position'] = alpha*p1['position'] + (1-alpha)*p2['position']\n",
        "    c2['position'] = alpha*p2['position'] + (1-alpha)*p1['position']\n",
        "    return c1, c2\n",
        "def mutate(c, mu, sigma):\n",
        "    #c: child chromosome\n",
        "    #mu: mutation rate. % of gene to be modified\n",
        "    #sigma: step size of mutation'''\n",
        "    y = copy.deepcopy(c)\n",
        "    flag = np.random.rand(*(c['position'].shape)) <= mu  # array of True and Flase, indicating at which position to perform mutation\n",
        "    ind = np.argwhere(flag)\n",
        "    y['position'][ind] += sigma * np.random.randn(*ind.shape)\n",
        "    return y\n",
        "def bounds(c, varmin, varmax):\n",
        "    #Defines the upper and lower bound of gene value'''\n",
        "    c['position'] = np.maximum(c['position'], varmin)\n",
        "    c['position'] = np.minimum(c['position'], varmax)\n",
        "    return c['position']\n",
        "def sort(arr):\n",
        "    # Bubble sorting the population + offsoring\n",
        "    # in every iteration to get best fit individuals at top'''\n",
        "    n = len(arr)\n",
        "\n",
        "    for i in range(n-1):\n",
        "        for j in range(0, n-i-1):\n",
        "            if arr[j]['cost'] > arr[j+1]['cost']:\n",
        "                arr[j], arr[j+1] = arr[j+1], arr[j]\n",
        "    return arr"
      ],
      "metadata": {
        "execution": {
          "iopub.status.busy": "2022-07-18T01:06:47.295869Z",
          "iopub.execute_input": "2022-07-18T01:06:47.296298Z",
          "iopub.status.idle": "2022-07-18T01:06:47.311385Z",
          "shell.execute_reply.started": "2022-07-18T01:06:47.296266Z",
          "shell.execute_reply": "2022-07-18T01:06:47.310085Z"
        },
        "trusted": true,
        "id": "uXbAsfODMjPG"
      },
      "execution_count": null,
      "outputs": []
    },
    {
      "cell_type": "code",
      "source": [
        "# let's creating all function in one function\n",
        "\n",
        "def ga(costfunc, num_var, varmin, varmax, maxit, npop, num_children, mu, sigma, beta, verbose):\n",
        "\n",
        "  # Placeholder for each individual\n",
        "    population = {}\n",
        "    # each inidivdual has position(chromosomes) and cost,\n",
        "    for i in range(npop):\n",
        "        population[i] = {'position': None, 'cost': None}\n",
        "        # create individual as many as population size(npop)\n",
        "\n",
        "    # Best solution found\n",
        "    bestsol = copy.deepcopy(population)\n",
        "    # initial best cost is infinity\n",
        "    bestsol_cost = np.inf\n",
        "\n",
        "  # Initialize population - 1st Gen\n",
        "    for i in range(npop):\n",
        "        population[i]['position'] = np.random.uniform(varmin, varmax, num_var)\n",
        "        # randomly initialize the chromosomes and cost\n",
        "        population[i]['cost'] = costfunc(population[i]['position'])\n",
        "        # if cost of an individual is less(best) than best cost,\n",
        "\n",
        "        if population[i]['cost'] < bestsol_cost:\n",
        "        # replace the best solution with that individual\n",
        "            bestsol = copy.deepcopy(population[i])\n",
        "\n",
        "    # Best cost of each generation/iteration\n",
        "    bestcost = np.empty(maxit)\n",
        "\n",
        "    print(\"Results return per {} iter\".format(verbose))\n",
        "    # Main loop\n",
        "    for it in range(maxit):\n",
        "    # Calculating probability for roulette wheel selection\n",
        "        costs = []\n",
        "        for i in range(len(population)):\n",
        "            costs.append(population[i]['cost'])\n",
        "            # list of all the population cost\n",
        "        costs = np.array(costs)\n",
        "        avg_cost = np.mean(costs)\n",
        "        # taking average of the costs\n",
        "        if avg_cost != 0:\n",
        "            costs = costs/avg_cost\n",
        "        # probability is exponensial of -ve beta times costs\n",
        "        probs = np.exp(-beta*costs)\n",
        "\n",
        "        for _ in range(num_children//2):\n",
        "\n",
        "            # we will be having two off springs for each crossover\n",
        "            # hence divide number of children by 2\n",
        "\n",
        "            # Roulette wheel selection\n",
        "            p1 = population[roulette_wheel_selection(probs)]\n",
        "            p2 = population[roulette_wheel_selection(probs)]\n",
        "\n",
        "            # crossover two parents\n",
        "            c1, c2 = crossover(p1, p2)\n",
        "\n",
        "            # Perform mutation\n",
        "            c1 = mutate(c1, mu, sigma)\n",
        "            c2 = mutate(c2, mu, sigma)\n",
        "\n",
        "            # Apply bounds\n",
        "            c1['position'] = bounds(c1, varmin, varmax)\n",
        "            c2['position'] = bounds(c2, varmin, varmax)\n",
        "\n",
        "            # Evaluate first off spring\n",
        "            # calculate cost function of child 1\n",
        "            c1['cost'] = costfunc(c1['position'])\n",
        "\n",
        "            if type(bestsol_cost) == float:\n",
        "                # replacing best solution in every generation/iteration\n",
        "                if c1['cost'] < bestsol_cost:\n",
        "                    bestsol_cost = copy.deepcopy(c1)\n",
        "            else:\n",
        "                # replacing best solution in every generation/iteration\n",
        "                if c1['cost'] < bestsol_cost['cost']:\n",
        "                    bestsol_cost = copy.deepcopy(c1)\n",
        "\n",
        "\n",
        "            # Evaluate second off spring\n",
        "            # replacing best solution in every generation/iteration\n",
        "\n",
        "            if c2['cost'] < bestsol_cost['cost']:\n",
        "                bestsol_cost = copy.deepcopy(c2)\n",
        "        # Merge, Sort and Select\n",
        "        population[len(population)] = c1\n",
        "        population[len(population)] = c2\n",
        "        # Sort\n",
        "        population = sort(population)\n",
        "        # Store best cost\n",
        "        bestcost[it] = bestsol_cost['cost']\n",
        "\n",
        "        # Show generation information\n",
        "\n",
        "        if it % verbose == 0:\n",
        "            print('Iteration {}: Best Cost = {}'. format(it, bestcost[it]))\n",
        "\n",
        "\n",
        "\n",
        "    out = population\n",
        "    Bestsol = bestsol\n",
        "    bestcost = bestcost\n",
        "    return (out, Bestsol, bestcost)"
      ],
      "metadata": {
        "execution": {
          "iopub.status.busy": "2022-07-18T01:06:47.737359Z",
          "iopub.execute_input": "2022-07-18T01:06:47.73781Z",
          "iopub.status.idle": "2022-07-18T01:06:47.758411Z",
          "shell.execute_reply.started": "2022-07-18T01:06:47.737774Z",
          "shell.execute_reply": "2022-07-18T01:06:47.757164Z"
        },
        "trusted": true,
        "id": "nKBx74L6MjPO"
      },
      "execution_count": null,
      "outputs": []
    },
    {
      "cell_type": "code",
      "source": [
        "# Problem definition\n",
        "costfunc = sphere\n",
        "# number of decicion variables\n",
        "num_var = 5\n",
        "# lower bound\n",
        "varmin = -10\n",
        "# upper bound\n",
        "varmax = 10\n",
        "\n",
        "# GA Parameters\n",
        "# number of iterations\n",
        "maxit = 500\n",
        "# initial population size\n",
        "npop = 20\n",
        "beta = 1 # index for somewhere\n",
        "# proportion of children to population\n",
        "prop_children = 4\n",
        "# making sure it always an even number\n",
        "num_children = int(np.round(prop_children * npop/2)*2)\n",
        "# mutation rate 40%\n",
        "mu = 0.2\n",
        "# step size of mutation\n",
        "sigma = 0.2\n",
        "# verbose for print frequency\n",
        "verbose = 100\n",
        "\n",
        "# Run GA\n",
        "out = ga(costfunc, num_var, varmin, varmax, maxit, npop, num_children, mu, sigma, beta, verbose)\n",
        "\n",
        "# Results\n",
        "#(out, Bestsol, bestcost)\n",
        "plt.plot(out[2])\n",
        "plt.xlim(0, maxit)\n",
        "plt.xlabel('Generations')\n",
        "plt.ylabel('Best Cost')\n",
        "plt.title('Genetic Algorithm')\n",
        "plt.grid(True)\n",
        "plt.show"
      ],
      "metadata": {
        "execution": {
          "iopub.status.busy": "2022-07-18T01:39:06.303983Z",
          "iopub.execute_input": "2022-07-18T01:39:06.304367Z",
          "iopub.status.idle": "2022-07-18T01:39:44.204028Z",
          "shell.execute_reply.started": "2022-07-18T01:39:06.304336Z",
          "shell.execute_reply": "2022-07-18T01:39:44.202796Z"
        },
        "trusted": true,
        "id": "AD09KvrLMjPP",
        "outputId": "892b14d1-03c7-4c29-a7bb-f1a41c0dd862",
        "colab": {
          "base_uri": "https://localhost:8080/",
          "height": 750
        }
      },
      "execution_count": null,
      "outputs": [
        {
          "output_type": "stream",
          "name": "stdout",
          "text": [
            "Results return per 100 iter\n",
            "Iteration 0: Best Cost = 33.19496291700214\n",
            "Iteration 100: Best Cost = 0.7240611532364246\n",
            "Iteration 200: Best Cost = 0.5298271963904557\n",
            "Iteration 300: Best Cost = 0.4626614662060824\n",
            "Iteration 400: Best Cost = 0.19468374464766314\n"
          ]
        },
        {
          "output_type": "execute_result",
          "data": {
            "text/plain": [
              "<function matplotlib.pyplot.show(close=None, block=None)>"
            ],
            "text/html": [
              "<div style=\"max-width:800px; border: 1px solid var(--colab-border-color);\"><style>\n",
              "      pre.function-repr-contents {\n",
              "        overflow-x: auto;\n",
              "        padding: 8px 12px;\n",
              "        max-height: 500px;\n",
              "      }\n",
              "\n",
              "      pre.function-repr-contents.function-repr-contents-collapsed {\n",
              "        cursor: pointer;\n",
              "        max-height: 100px;\n",
              "      }\n",
              "    </style>\n",
              "    <pre style=\"white-space: initial; background:\n",
              "         var(--colab-secondary-surface-color); padding: 8px 12px;\n",
              "         border-bottom: 1px solid var(--colab-border-color);\"><b>matplotlib.pyplot.show</b><br/>def show(*args, **kwargs)</pre><pre class=\"function-repr-contents function-repr-contents-collapsed\" style=\"\"><a class=\"filepath\" style=\"display:none\" href=\"#\">/usr/local/lib/python3.10/dist-packages/matplotlib/pyplot.py</a>Display all open figures.\n",
              "\n",
              "Parameters\n",
              "----------\n",
              "block : bool, optional\n",
              "    Whether to wait for all figures to be closed before returning.\n",
              "\n",
              "    If `True` block and run the GUI main loop until all figure windows\n",
              "    are closed.\n",
              "\n",
              "    If `False` ensure that all figure windows are displayed and return\n",
              "    immediately.  In this case, you are responsible for ensuring\n",
              "    that the event loop is running to have responsive figures.\n",
              "\n",
              "    Defaults to True in non-interactive mode and to False in interactive\n",
              "    mode (see `.pyplot.isinteractive`).\n",
              "\n",
              "See Also\n",
              "--------\n",
              "ion : Enable interactive mode, which shows / updates the figure after\n",
              "      every plotting command, so that calling ``show()`` is not necessary.\n",
              "ioff : Disable interactive mode.\n",
              "savefig : Save the figure to an image file instead of showing it on screen.\n",
              "\n",
              "Notes\n",
              "-----\n",
              "**Saving figures to file and showing a window at the same time**\n",
              "\n",
              "If you want an image file as well as a user interface window, use\n",
              "`.pyplot.savefig` before `.pyplot.show`. At the end of (a blocking)\n",
              "``show()`` the figure is closed and thus unregistered from pyplot. Calling\n",
              "`.pyplot.savefig` afterwards would save a new and thus empty figure. This\n",
              "limitation of command order does not apply if the show is non-blocking or\n",
              "if you keep a reference to the figure and use `.Figure.savefig`.\n",
              "\n",
              "**Auto-show in jupyter notebooks**\n",
              "\n",
              "The jupyter backends (activated via ``%matplotlib inline``,\n",
              "``%matplotlib notebook``, or ``%matplotlib widget``), call ``show()`` at\n",
              "the end of every cell by default. Thus, you usually don&#x27;t have to call it\n",
              "explicitly there.</pre>\n",
              "      <script>\n",
              "      if (google.colab.kernel.accessAllowed && google.colab.files && google.colab.files.view) {\n",
              "        for (const element of document.querySelectorAll('.filepath')) {\n",
              "          element.style.display = 'block'\n",
              "          element.onclick = (event) => {\n",
              "            event.preventDefault();\n",
              "            event.stopPropagation();\n",
              "            google.colab.files.view(element.textContent, 401);\n",
              "          };\n",
              "        }\n",
              "      }\n",
              "      for (const element of document.querySelectorAll('.function-repr-contents')) {\n",
              "        element.onclick = (event) => {\n",
              "          event.preventDefault();\n",
              "          event.stopPropagation();\n",
              "          element.classList.toggle('function-repr-contents-collapsed');\n",
              "        };\n",
              "      }\n",
              "      </script>\n",
              "      </div>"
            ]
          },
          "metadata": {},
          "execution_count": 14
        },
        {
          "output_type": "display_data",
          "data": {
            "text/plain": [
              "<Figure size 640x480 with 1 Axes>"
            ],
            "image/png": "[encoded data removed]"
          },
          "metadata": {}
        }
      ]
    },
    {
      "cell_type": "markdown",
      "source": [
        "# Acknowledge\n",
        "* First of all, Ahmed Fawzy Gad has developed a very nice library, make sure to examine it in depth. I will also share sample solutions soon. I also benefited a lot from Ahmed's medium articles, so I respect him for this reason.\n",
        "\n",
        "[His linkedin profile](https://www.linkedin.com/in/ahmedfgad/)\n",
        "\n",
        "\n",
        "[His medium profile](https://medium.com/@ahmedfgad)\n",
        "\n",
        "\n",
        "\n",
        "* Secondly, I have benefited greatly from the article written by Sujan Shirol and Roberto Iriondo on the \"towards-ai\" site and even wrote the same. Because it has a really good explanation. However, the codes given in the article do not work properly and are confusing, but they have also developed a solution for it. There is a properly working version of all the code in Colab. However, I think that the return part of the \"bounds\" function in this code may be missing, I added this and I think the code works with higher performance. I also added a simple \"verbose\" function for return results.\n",
        "\n",
        "[His linkedin profile](https://www.linkedin.com/in/robiriondo/)\n",
        "\n",
        "\n",
        "\n",
        "[Article](https://pub.towardsai.net/genetic-algorithm-ga-introduction-with-example-code-e59f9bc58eaf)\n",
        "\n",
        "\n",
        "\n",
        "[Colab](https://colab.research.google.com/drive/161ijkvn8wG_seVtQexm-p3fW3r5p8s_x?usp=sharing#scrollTo=of6BvUJWjRTh)\n",
        "\n",
        "\n",
        "## The biggest of the praise is to, who provided all my inspiration and motivation on the subject, Prof. Dr. Asim Egemen Yılmaz.\n",
        "\n",
        "\n",
        "[His linkedin profile](https://www.linkedin.com/in/asim-egemen-yilmaz-401bb23/)"
      ],
      "metadata": {
        "id": "3RNaT_uHMjPP"
      }
    },
    {
      "cell_type": "markdown",
      "source": [
        "![](https://sd.keepcalms.com/i-w600/please-follow-me-and-like-this.jpg)"
      ],
      "metadata": {
        "id": "tVqcSHG1MjPP"
      }
    }
  ]
}